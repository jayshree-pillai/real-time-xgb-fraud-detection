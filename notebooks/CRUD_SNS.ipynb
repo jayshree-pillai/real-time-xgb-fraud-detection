{
 "cells": [
  {
   "cell_type": "code",
   "execution_count": 7,
   "id": "ce64e293-f398-4c6f-ac74-577ee9bbf9ff",
   "metadata": {},
   "outputs": [
    {
     "name": "stdout",
     "output_type": "stream",
     "text": [
      "{\n",
      "    \"TopicArn\": \"arn:aws:sns:us-east-1:869935087425:fraud-alerts\"\n",
      "}\n"
     ]
    }
   ],
   "source": [
    "!aws sns create-topic --name fraud-alerts"
   ]
  },
  {
   "cell_type": "code",
   "execution_count": 14,
   "id": "2eeb32ef-3938-47a8-879d-02d6f94e6709",
   "metadata": {},
   "outputs": [
    {
     "name": "stdout",
     "output_type": "stream",
     "text": [
      "{\n",
      "    \"SubscriptionArn\": \"pending confirmation\"\n",
      "}\n"
     ]
    }
   ],
   "source": [
    "#!aws sns subscribe \\\n",
    "#  --topic-arn arn:aws:sns:us-east-1:869935087425:fraud-alerts \\\n",
    "#  --protocol email \\\n",
    "#  --notification-endpoint jpillai2014@gmail.com\n"
   ]
  },
  {
   "cell_type": "code",
   "execution_count": 15,
   "id": "7579ee6a-a466-4955-9fb2-8939d6bbc92c",
   "metadata": {},
   "outputs": [
    {
     "name": "stdout",
     "output_type": "stream",
     "text": [
      "{\n",
      "    \"Subscriptions\": [\n",
      "        {\n",
      "            \"SubscriptionArn\": \"arn:aws:sns:us-east-1:869935087425:fraud-alerts:58f9ebba-4a26-4b96-a4b0-a718fd88b628\",\n",
      "            \"Owner\": \"869935087425\",\n",
      "            \"Protocol\": \"email\",\n",
      "            \"Endpoint\": \"jpillai2014@gmail.com\",\n",
      "            \"TopicArn\": \"arn:aws:sns:us-east-1:869935087425:fraud-alerts\"\n",
      "        }\n",
      "    ]\n",
      "}\n"
     ]
    }
   ],
   "source": [
    "!aws sns list-subscriptions-by-topic \\\n",
    "  --topic-arn arn:aws:sns:us-east-1:869935087425:fraud-alerts\n"
   ]
  },
  {
   "cell_type": "code",
   "execution_count": null,
   "id": "a142116d-7f9d-468f-ab68-624485ddff93",
   "metadata": {},
   "outputs": [],
   "source": [
    "!aws sns unsubscribe \\\n",
    "  --subscription-arn arn:aws:sns:us-east-1:869935087425:fraud-alerts:PendingConfirmation\n"
   ]
  },
  {
   "cell_type": "code",
   "execution_count": 6,
   "id": "ea9ee537-34ee-4992-994e-e50ecb39e223",
   "metadata": {},
   "outputs": [],
   "source": [
    "!aws sns delete-topic \\\n",
    "  --topic-arn arn:aws:sns:us-east-1:869935087425:fraud-alerts\n"
   ]
  },
  {
   "cell_type": "code",
   "execution_count": 17,
   "id": "db49e52c-bd93-4146-ad62-3b599e1b3eb7",
   "metadata": {},
   "outputs": [
    {
     "name": "stdout",
     "output_type": "stream",
     "text": [
      "{\n",
      "    \"QueueUrl\": \"https://queue.amazonaws.com/869935087425/fraud-predict-queue\"\n",
      "}\n"
     ]
    }
   ],
   "source": [
    "# Create SQS Queue:\n",
    "!aws sqs create-queue --queue-name fraud-predict-queue\n"
   ]
  },
  {
   "cell_type": "code",
   "execution_count": 25,
   "id": "39c53368-9986-4def-9e4d-e25f4e7d7d0a",
   "metadata": {},
   "outputs": [
    {
     "name": "stdout",
     "output_type": "stream",
     "text": [
      "No messages in queue.\n"
     ]
    }
   ],
   "source": [
    "import boto3\n",
    "import json\n",
    "\n",
    "sqs = boto3.client('sqs', region_name='us-east-1')\n",
    "queue_url = 'https://queue.amazonaws.com/869935087425/fraud-predict-queue'\n",
    "\n",
    "response = sqs.receive_message(\n",
    "    QueueUrl=queue_url,\n",
    "    MaxNumberOfMessages=1,\n",
    "    WaitTimeSeconds=2\n",
    ")\n",
    "\n",
    "messages = response.get('Messages', [])\n",
    "if messages:\n",
    "    for msg in messages:\n",
    "        print(\"Txn ID:\", msg['Body'])\n",
    "\n",
    "        # Delete message after processing\n",
    "        sqs.delete_message(\n",
    "            QueueUrl=queue_url,\n",
    "            ReceiptHandle=msg['ReceiptHandle']\n",
    "        )\n",
    "else:\n",
    "    print(\"No messages in queue.\")\n"
   ]
  },
  {
   "cell_type": "code",
   "execution_count": null,
   "id": "7bc8acc1-53eb-416f-9a70-a87ce0f1d18b",
   "metadata": {},
   "outputs": [],
   "source": []
  }
 ],
 "metadata": {
  "kernelspec": {
   "display_name": "conda_python3",
   "language": "python",
   "name": "conda_python3"
  },
  "language_info": {
   "codemirror_mode": {
    "name": "ipython",
    "version": 3
   },
   "file_extension": ".py",
   "mimetype": "text/x-python",
   "name": "python",
   "nbconvert_exporter": "python",
   "pygments_lexer": "ipython3",
   "version": "3.10.18"
  }
 },
 "nbformat": 4,
 "nbformat_minor": 5
}
