{
 "cells": [
  {
   "cell_type": "code",
   "execution_count": 3,
   "id": "8a68c8e3-79c8-4dff-87f4-871a5178dfb7",
   "metadata": {},
   "outputs": [],
   "source": [
    "import sagemaker\n",
    "from sagemaker import get_execution_role\n",
    "from sagemaker.xgboost.model import XGBoostModel\n",
    "import boto3\n",
    "from sagemaker import image_uris"
   ]
  },
  {
   "cell_type": "code",
   "execution_count": 4,
   "id": "58b04076-b59f-478a-9957-5c6d3c897d68",
   "metadata": {},
   "outputs": [
    {
     "name": "stdout",
     "output_type": "stream",
     "text": [
      "683313688378.dkr.ecr.us-east-1.amazonaws.com/sagemaker-xgboost:1.3-1\n"
     ]
    }
   ],
   "source": [
    "sm = boto3.client('sagemaker')\n",
    "role = get_execution_role()\n",
    "\n",
    "image_uris.retrieve('xgboost', region='us-east-1', version='1.3-1')\n",
    "#s3://fraud-model-artifacts/xgb_model_final.tar.gz\n",
    "s3 = boto3.client('s3')\n",
    "s3.head_object(Bucket='fraud-model-artifacts', Key='xgb_model_final.tar.gz')\n",
    "boto3.Session().region_name\n",
    "\n",
    "container_uri = image_uris.retrieve(\n",
    "    framework='xgboost',\n",
    "    region=boto3.Session().region_name,\n",
    "    version='1.3-1'\n",
    ")\n",
    "print(container_uri)\n",
    "\n"
   ]
  },
  {
   "cell_type": "code",
   "execution_count": null,
   "id": "f360e224-1a62-4ff2-ac9e-e1b51e4ac938",
   "metadata": {},
   "outputs": [],
   "source": [
    "sm.create_model(\n",
    "    ModelName='fraud-xgb-model-flat',\n",
    "    ExecutionRoleArn=role,\n",
    "    PrimaryContainer={\n",
    "        'Image': container_uri,\n",
    "        'ModelDataUrl': 's3://fraud-model-artifacts/xgb_model_final.tar.gz'\n",
    "    }\n",
    ")"
   ]
  },
  {
   "cell_type": "code",
   "execution_count": 9,
   "id": "15c97ca4-9b9e-4d73-998b-4c7ec2118559",
   "metadata": {},
   "outputs": [
    {
     "data": {
      "text/plain": [
       "{'EndpointConfigArn': 'arn:aws:sagemaker:us-east-1:869935087425:endpoint-config/fraud-xgb-endpoint-config-flat',\n",
       " 'ResponseMetadata': {'RequestId': 'a5d9de13-fc80-47f5-8b1a-ee0eb83b83b8',\n",
       "  'HTTPStatusCode': 200,\n",
       "  'HTTPHeaders': {'x-amzn-requestid': 'a5d9de13-fc80-47f5-8b1a-ee0eb83b83b8',\n",
       "   'content-type': 'application/x-amz-json-1.1',\n",
       "   'content-length': '111',\n",
       "   'date': 'Fri, 27 Jun 2025 02:12:14 GMT'},\n",
       "  'RetryAttempts': 0}}"
      ]
     },
     "execution_count": 9,
     "metadata": {},
     "output_type": "execute_result"
    }
   ],
   "source": [
    "\n",
    "sm.create_endpoint_config(\n",
    "    EndpointConfigName='fraud-xgb-endpoint-config-flat',\n",
    "    ProductionVariants=[{\n",
    "        'VariantName': 'AllTraffic',\n",
    "        'ModelName': 'fraud-xgb-model-flat',\n",
    "        'InstanceType': 'ml.t2.medium',\n",
    "        'InitialInstanceCount': 1\n",
    "    }]\n",
    ")\n",
    "\n"
   ]
  },
  {
   "cell_type": "code",
   "execution_count": 5,
   "id": "93b7912f-00a0-4a2b-b74d-1186dd7e0818",
   "metadata": {},
   "outputs": [
    {
     "data": {
      "text/plain": [
       "{'EndpointArn': 'arn:aws:sagemaker:us-east-1:869935087425:endpoint/fraud-xgb-endpoint-flat',\n",
       " 'ResponseMetadata': {'RequestId': '26999780-49fb-47ae-8ab6-ac7be0f4d254',\n",
       "  'HTTPStatusCode': 200,\n",
       "  'HTTPHeaders': {'x-amzn-requestid': '26999780-49fb-47ae-8ab6-ac7be0f4d254',\n",
       "   'content-type': 'application/x-amz-json-1.1',\n",
       "   'content-length': '91',\n",
       "   'date': 'Wed, 09 Jul 2025 17:32:32 GMT'},\n",
       "  'RetryAttempts': 0}}"
      ]
     },
     "execution_count": 5,
     "metadata": {},
     "output_type": "execute_result"
    }
   ],
   "source": [
    "sm.create_endpoint(\n",
    "    EndpointName='fraud-xgb-endpoint-flat',\n",
    "    EndpointConfigName='fraud-xgb-endpoint-config-flat'\n",
    ")\n"
   ]
  },
  {
   "cell_type": "code",
   "execution_count": 6,
   "id": "d6b6e5e6-17b4-4338-bc26-b8eae999b47b",
   "metadata": {},
   "outputs": [
    {
     "data": {
      "text/plain": [
       "'s3://fraud-model-artifacts/xgb_model_final.tar.gz'"
      ]
     },
     "execution_count": 6,
     "metadata": {},
     "output_type": "execute_result"
    }
   ],
   "source": [
    "sm.describe_model(ModelName='fraud-xgb-model-flat')['PrimaryContainer']['ModelDataUrl']"
   ]
  },
  {
   "cell_type": "code",
   "execution_count": 10,
   "id": "c5e26046-1c55-4c50-8a5d-a2d6be16d2e4",
   "metadata": {},
   "outputs": [
    {
     "data": {
      "text/plain": [
       "'InService'"
      ]
     },
     "execution_count": 10,
     "metadata": {},
     "output_type": "execute_result"
    }
   ],
   "source": [
    "sm.describe_endpoint(EndpointName='fraud-xgb-endpoint-flat')['EndpointStatus']\n"
   ]
  },
  {
   "cell_type": "code",
   "execution_count": null,
   "id": "f084cd99-8617-4f9e-b23a-9ad7b4495496",
   "metadata": {},
   "outputs": [],
   "source": []
  }
 ],
 "metadata": {
  "kernelspec": {
   "display_name": "conda_python3",
   "language": "python",
   "name": "conda_python3"
  },
  "language_info": {
   "codemirror_mode": {
    "name": "ipython",
    "version": 3
   },
   "file_extension": ".py",
   "mimetype": "text/x-python",
   "name": "python",
   "nbconvert_exporter": "python",
   "pygments_lexer": "ipython3",
   "version": "3.10.18"
  }
 },
 "nbformat": 4,
 "nbformat_minor": 5
}
