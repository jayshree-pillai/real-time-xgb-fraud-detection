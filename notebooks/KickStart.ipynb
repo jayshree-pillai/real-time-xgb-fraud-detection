{
 "cells": [
  {
   "cell_type": "code",
   "execution_count": null,
   "id": "8a971fdc-46b1-4b10-96a3-8af0c50ed865",
   "metadata": {},
   "outputs": [],
   "source": [
    "# =============================\n",
    "# 1. Push Records from S3 to Kinesis\n",
    "# =============================\n",
    "import boto3, json, uuid, time\n",
    "import pandas as pd\n",
    "from datetime import datetime, timedelta\n",
    "\n",
    "s3 = boto3.client('s3')\n",
    "kinesis = boto3.client('kinesis')\n",
    "\n",
    "BUCKET = 'fraud-model-artifacts'\n",
    "KEY = 'creditcard.csv'\n",
    "STREAM = 'creditcard-stream'\n",
    "\n",
    "# Read and sample data\n",
    "obj = s3.get_object(Bucket=BUCKET, Key=KEY)\n",
    "df = pd.read_csv(obj['Body'])\n",
    "df = df.sample(10).copy()  # for quick test"
   ]
  },
  {
   "cell_type": "code",
   "execution_count": null,
   "id": "b6dab37a-2092-4ecd-a352-f7ff1da10e73",
   "metadata": {},
   "outputs": [],
   "source": [
    "df = df.drop(columns=['Class', 'Time', 'event_time'], errors='ignore')"
   ]
  },
  {
   "cell_type": "code",
   "execution_count": null,
   "id": "fe54baba-2cc0-467f-b9bc-28efedae9475",
   "metadata": {},
   "outputs": [],
   "source": [
    "# Send to Kinesis\n",
    "for i, (_, row) in enumerate(df.iterrows()):\n",
    "    record = row.to_dict()\n",
    "    kinesis.put_record(\n",
    "        StreamName=STREAM,\n",
    "        Data=json.dumps(record),\n",
    "        PartitionKey='partition-1'\n",
    "    )\n",
    "    print(f\"Sent record {i}\")\n",
    "    time.sleep(0.1)"
   ]
  },
  {
   "cell_type": "code",
   "execution_count": null,
   "id": "4313f319-9382-4493-8820-c61e8355d76b",
   "metadata": {},
   "outputs": [],
   "source": [
    "#minimal kinesis consumer\n",
    "client = boto3.client('kinesis', region_name='us-east-1')\n",
    "stream = 'creditcard-stream'\n",
    "\n",
    "# Get the shard ID\n",
    "shard_id = client.describe_stream(StreamName=stream)['StreamDescription']['Shards'][0]['ShardId']\n",
    "\n",
    "# Get iterator to start reading\n",
    "shard_it = client.get_shard_iterator(\n",
    "    StreamName=stream,\n",
    "    ShardId=shard_id,\n",
    "    ShardIteratorType='TRIM_HORIZON'  # from earliest #LATEST #TRIM_HORIZON\n",
    ")['ShardIterator']\n",
    "\n",
    "# Read records\n",
    "records = client.get_records(ShardIterator=shard_it, Limit=100)\n",
    "i=0\n",
    "for r in records['Records']:\n",
    "    i+=1\n",
    "    #print(json.loads(r['Data']))\n",
    "print(i)"
   ]
  }
 ],
 "metadata": {
  "kernelspec": {
   "display_name": "conda_python3",
   "language": "python",
   "name": "conda_python3"
  },
  "language_info": {
   "codemirror_mode": {
    "name": "ipython",
    "version": 3
   },
   "file_extension": ".py",
   "mimetype": "text/x-python",
   "name": "python",
   "nbconvert_exporter": "python",
   "pygments_lexer": "ipython3",
   "version": "3.10.18"
  }
 },
 "nbformat": 4,
 "nbformat_minor": 5
}
