{
 "cells": [
  {
   "cell_type": "code",
   "execution_count": null,
   "id": "5e7a11f1-4315-4365-92e9-6a1d8c14e657",
   "metadata": {},
   "outputs": [],
   "source": [
    "# Ensure compatible versions\n",
    "!pip install xgboost>=1.6.0 --quiet numpy==1.24.4 --quiet"
   ]
  },
  {
   "cell_type": "code",
   "execution_count": null,
   "id": "8dd3f11a-3b41-43e2-ae73-42bc5aa723d4",
   "metadata": {},
   "outputs": [],
   "source": [
    "!pip install xgboost==1.7.6 --quiet\n"
   ]
  },
  {
   "cell_type": "code",
   "execution_count": 1,
   "id": "78ddb4cf-5f72-47d6-ae22-8c66ac0a4480",
   "metadata": {},
   "outputs": [
    {
     "name": "stderr",
     "output_type": "stream",
     "text": [
      "/home/ec2-user/anaconda3/envs/python3/lib/python3.10/site-packages/pandas/core/computation/expressions.py:21: UserWarning: Pandas requires version '2.8.4' or newer of 'numexpr' (version '2.7.3' currently installed).\n",
      "  from pandas.core.computation.check import NUMEXPR_INSTALLED\n"
     ]
    },
    {
     "name": "stdout",
     "output_type": "stream",
     "text": [
      "XGBoost version: 1.7.6\n",
      "NumPy version: 1.24.4\n"
     ]
    }
   ],
   "source": [
    "import xgboost\n",
    "import numpy as np\n",
    "\n",
    "print(\"XGBoost version:\", xgboost.__version__)\n",
    "print(\"NumPy version:\", np.__version__)"
   ]
  },
  {
   "cell_type": "code",
   "execution_count": 4,
   "id": "b5b0ddae-81ff-4b42-87f3-1a686d7677b0",
   "metadata": {},
   "outputs": [],
   "source": [
    "import boto3\n",
    "import tarfile\n",
    "import pandas as pd\n",
    "import numpy as np\n",
    "import time\n",
    "import xgboost as xgb\n",
    "from sklearn.metrics import precision_score, recall_score, f1_score, classification_report\n",
    "from sklearn.model_selection import train_test_split"
   ]
  },
  {
   "cell_type": "code",
   "execution_count": 5,
   "id": "705bb2c1-0b2c-4d4d-80ff-257d50e1da89",
   "metadata": {},
   "outputs": [],
   "source": [
    "# --- 1. Download test data from S3\n",
    "s3 = boto3.client('s3')\n",
    "BUCKET = 'fraud-model-artifacts'\n",
    "CSV_KEY = 'creditcard.csv'\n",
    "MODEL_KEY = 'xgb_model_final.tar.gz'"
   ]
  },
  {
   "cell_type": "code",
   "execution_count": 6,
   "id": "247a8dcb-df71-482c-9dd5-d23ac3f760ae",
   "metadata": {},
   "outputs": [],
   "source": [
    "# Load test CSV\n",
    "obj = s3.get_object(Bucket=BUCKET, Key=CSV_KEY)\n",
    "df = pd.read_csv(obj['Body'])"
   ]
  },
  {
   "cell_type": "code",
   "execution_count": 7,
   "id": "05dba469-0208-4d4a-836b-ea360a937a9d",
   "metadata": {},
   "outputs": [],
   "source": [
    "# --- 2. Prepare train-test split and add noise to test set\n",
    "df = df.drop(columns=['Time'])  \n",
    "X = df.drop(columns=['Class'])\n",
    "y = df['Class']\n"
   ]
  },
  {
   "cell_type": "code",
   "execution_count": 8,
   "id": "3f0e1256-1f5b-49a4-8c96-23073c0785cd",
   "metadata": {},
   "outputs": [],
   "source": [
    "X_train, X_test, y_train, y_test = train_test_split(X, y, test_size=0.2, random_state=42)\n",
    "# Inject noise into 20% of test features\n",
    "noise_mask = np.random.rand(*X_test.shape) < 0.2\n",
    "noise = np.random.normal(0, 0.1, size=X_test.shape)\n",
    "X_test_noisy = X_test + (noise * noise_mask)\n",
    "\n",
    "dmatrix = xgb.DMatrix(X_test_noisy)"
   ]
  },
  {
   "cell_type": "code",
   "execution_count": 9,
   "id": "62bc151b-70dd-4b15-b377-4e2a10129b5f",
   "metadata": {},
   "outputs": [],
   "source": [
    "# --- 3. Download and load XGBoost model from S3\n",
    "s3.download_file(BUCKET, MODEL_KEY, 'xgb_model_final.tar.gz')\n",
    "with tarfile.open('xgb_model_final.tar.gz', 'r:gz') as tar:\n",
    "    tar.extractall()  # extracts model.bin\n",
    "\n",
    "booster = xgb.Booster()\n",
    "booster.load_model('model.bin')\n"
   ]
  },
  {
   "cell_type": "code",
   "execution_count": 10,
   "id": "a62d8307-9992-4605-897e-455af0b17261",
   "metadata": {},
   "outputs": [],
   "source": [
    "# --- 4. Make predictions and time it\n",
    "start = time.time()\n",
    "y_pred_prob = booster.predict(dmatrix)\n",
    "total_time = time.time() - start\n",
    "\n",
    "y_pred = (y_pred_prob >= 0.5).astype(int)\n"
   ]
  },
  {
   "cell_type": "code",
   "execution_count": 14,
   "id": "f8ff6eb6-acf7-4184-b555-df2dff0885f1",
   "metadata": {},
   "outputs": [
    {
     "data": {
      "text/plain": [
       "56962"
      ]
     },
     "execution_count": 14,
     "metadata": {},
     "output_type": "execute_result"
    }
   ],
   "source": [
    "len(y_pred)"
   ]
  },
  {
   "cell_type": "code",
   "execution_count": 13,
   "id": "473c7f2b-bbb8-4f06-8496-fbcc80551dda",
   "metadata": {},
   "outputs": [
    {
     "name": "stdout",
     "output_type": "stream",
     "text": [
      "Precision: 0.9791666666666666\n",
      "Recall: 0.9591836734693877\n",
      "F1 Score: 0.9690721649484536\n",
      "Avg Inference Latency per Tx: 0.000000 sec\n",
      "\n",
      "Classification Report:\n",
      "               precision    recall  f1-score   support\n",
      "\n",
      "           0       1.00      1.00      1.00     56864\n",
      "           1       0.98      0.96      0.97        98\n",
      "\n",
      "    accuracy                           1.00     56962\n",
      "   macro avg       0.99      0.98      0.98     56962\n",
      "weighted avg       1.00      1.00      1.00     56962\n",
      "\n"
     ]
    }
   ],
   "source": [
    "# --- 5. Report metrics\n",
    "print(\"Precision:\", precision_score(y_test, y_pred))\n",
    "print(\"Recall:\", recall_score(y_test, y_pred))\n",
    "print(\"F1 Score:\", f1_score(y_test, y_pred))\n",
    "print(f\"Avg Inference Latency per Tx: {total_time / len(X):.6f} sec\")\n",
    "print(\"\\nClassification Report:\\n\", classification_report(y_test, y_pred))"
   ]
  },
  {
   "cell_type": "code",
   "execution_count": null,
   "id": "e3ce2e37-ae1f-4185-81d4-d1ca57dcdd1a",
   "metadata": {},
   "outputs": [],
   "source": []
  },
  {
   "cell_type": "code",
   "execution_count": null,
   "id": "ac04d0d0-e0d2-4e80-8bd5-dbd76087735e",
   "metadata": {},
   "outputs": [],
   "source": []
  }
 ],
 "metadata": {
  "kernelspec": {
   "display_name": "conda_python3",
   "language": "python",
   "name": "conda_python3"
  },
  "language_info": {
   "codemirror_mode": {
    "name": "ipython",
    "version": 3
   },
   "file_extension": ".py",
   "mimetype": "text/x-python",
   "name": "python",
   "nbconvert_exporter": "python",
   "pygments_lexer": "ipython3",
   "version": "3.10.18"
  }
 },
 "nbformat": 4,
 "nbformat_minor": 5
}
