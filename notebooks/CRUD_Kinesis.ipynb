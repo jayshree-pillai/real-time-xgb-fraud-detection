{
 "cells": [
  {
   "cell_type": "code",
   "execution_count": 5,
   "id": "6e9892c7-dfd5-4515-add8-3f1ccb955d7a",
   "metadata": {},
   "outputs": [],
   "source": [
    "import pandas as pd\n",
    "from datetime import datetime, timedelta\n",
    "import boto3, json, time,uuid"
   ]
  },
  {
   "cell_type": "code",
   "execution_count": 17,
   "id": "ad48a48f-1ebc-4a22-a658-e0e532283fe8",
   "metadata": {},
   "outputs": [
    {
     "name": "stdout",
     "output_type": "stream",
     "text": [
      "{\n",
      "    \"StreamNames\": [],\n",
      "    \"StreamSummaries\": []\n",
      "}\n"
     ]
    }
   ],
   "source": [
    "!aws kinesis list-streams # add permissions to jupyter notebook first for kinesis full access"
   ]
  },
  {
   "cell_type": "code",
   "execution_count": 15,
   "id": "9920df0f-3d79-4124-8f0b-72b5ccaa0f6c",
   "metadata": {},
   "outputs": [],
   "source": [
    "#delete stream created\n",
    "!aws kinesis delete-stream --stream-name creditcard-stream --enforce-consumer-deletion"
   ]
  },
  {
   "cell_type": "code",
   "execution_count": 11,
   "id": "2711a48b-6581-4902-ac3b-459b9c3cc77a",
   "metadata": {},
   "outputs": [],
   "source": [
    "#step#2 Create Kinesis Stream\n",
    "#!aws kinesis create-stream --stream-name creditcard-stream --shard-count 1"
   ]
  },
  {
   "cell_type": "code",
   "execution_count": 14,
   "id": "e49355a3-9dd6-4305-bcd5-ba4327ec568d",
   "metadata": {},
   "outputs": [
    {
     "name": "stdout",
     "output_type": "stream",
     "text": [
      "{\n",
      "    \"StreamDescription\": {\n",
      "        \"Shards\": [\n",
      "            {\n",
      "                \"ShardId\": \"shardId-000000000000\",\n",
      "                \"HashKeyRange\": {\n",
      "                    \"StartingHashKey\": \"0\",\n",
      "                    \"EndingHashKey\": \"340282366920938463463374607431768211455\"\n",
      "                },\n",
      "                \"SequenceNumberRange\": {\n",
      "                    \"StartingSequenceNumber\": \"49665023246516562671196613242760109685563205301160640514\"\n",
      "                }\n",
      "            }\n",
      "        ],\n",
      "        \"StreamARN\": \"arn:aws:kinesis:us-east-1:869935087425:stream/creditcard-stream\",\n",
      "        \"StreamName\": \"creditcard-stream\",\n",
      "        \"StreamStatus\": \"ACTIVE\",\n",
      "        \"RetentionPeriodHours\": 24,\n",
      "        \"EnhancedMonitoring\": [\n",
      "            {\n",
      "                \"ShardLevelMetrics\": []\n",
      "            }\n",
      "        ],\n",
      "        \"EncryptionType\": \"NONE\",\n",
      "        \"KeyId\": null,\n",
      "        \"StreamCreationTimestamp\": 1752088143.0\n",
      "    }\n",
      "}\n"
     ]
    }
   ],
   "source": [
    "!aws kinesis describe-stream --stream-name creditcard-stream"
   ]
  },
  {
   "cell_type": "code",
   "execution_count": null,
   "id": "84446c7a-7d63-4883-abc6-d820a15cf498",
   "metadata": {},
   "outputs": [],
   "source": []
  }
 ],
 "metadata": {
  "kernelspec": {
   "display_name": "conda_python3",
   "language": "python",
   "name": "conda_python3"
  },
  "language_info": {
   "codemirror_mode": {
    "name": "ipython",
    "version": 3
   },
   "file_extension": ".py",
   "mimetype": "text/x-python",
   "name": "python",
   "nbconvert_exporter": "python",
   "pygments_lexer": "ipython3",
   "version": "3.10.18"
  }
 },
 "nbformat": 4,
 "nbformat_minor": 5
}
